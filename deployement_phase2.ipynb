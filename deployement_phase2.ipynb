{
 "cells": [
  {
   "cell_type": "code",
   "execution_count": 8,
   "id": "1cad0cbc-99f8-489c-af1e-c1b1bc7ebb29",
   "metadata": {},
   "outputs": [],
   "source": [
    "import pickle #deployment-end user side "
   ]
  },
  {
   "cell_type": "code",
   "execution_count": 9,
   "id": "a34c762d-73dd-4777-aaf9-3f6292117aed",
   "metadata": {},
   "outputs": [
    {
     "name": "stderr",
     "output_type": "stream",
     "text": [
      "C:\\Users\\HUAWEI\\AppData\\Local\\Programs\\Python\\Python312\\Lib\\site-packages\\sklearn\\base.py:493: UserWarning: X does not have valid feature names, but LinearRegression was fitted with feature names\n",
      "  warnings.warn(\n"
     ]
    }
   ],
   "source": [
    "loaded_model=pickle.load(open(\"finalized_model_linear.sav\",\"rb\"))#the  file is load and open the linear model and read binary\n",
    "result=loaded_model.predict([[0]]) # just check here initital value or any customer predict value"
   ]
  },
  {
   "cell_type": "code",
   "execution_count": 10,
   "id": "91756a47-f368-4cdf-bc24-c0bbde8fe298",
   "metadata": {},
   "outputs": [
    {
     "data": {
      "text/plain": [
       "array([[26777.3913412]])"
      ]
     },
     "execution_count": 10,
     "metadata": {},
     "output_type": "execute_result"
    }
   ],
   "source": [
    "result # final result show end user"
   ]
  },
  {
   "cell_type": "code",
   "execution_count": null,
   "id": "e9319f15-05f3-46d4-8d69-4d2587217710",
   "metadata": {},
   "outputs": [],
   "source": []
  }
 ],
 "metadata": {
  "kernelspec": {
   "display_name": "Python 3 (ipykernel)",
   "language": "python",
   "name": "python3"
  },
  "language_info": {
   "codemirror_mode": {
    "name": "ipython",
    "version": 3
   },
   "file_extension": ".py",
   "mimetype": "text/x-python",
   "name": "python",
   "nbconvert_exporter": "python",
   "pygments_lexer": "ipython3",
   "version": "3.12.2"
  }
 },
 "nbformat": 4,
 "nbformat_minor": 5
}
